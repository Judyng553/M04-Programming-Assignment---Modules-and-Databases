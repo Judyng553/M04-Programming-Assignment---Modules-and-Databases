{
 "cells": [
  {
   "cell_type": "code",
   "execution_count": 14,
   "id": "48c49727",
   "metadata": {},
   "outputs": [],
   "source": [
    "# 11.1\n",
    "\n",
    "import zoo"
   ]
  },
  {
   "cell_type": "code",
   "execution_count": 15,
   "id": "14211e7f",
   "metadata": {},
   "outputs": [
    {
     "name": "stdout",
     "output_type": "stream",
     "text": [
      "Open 9-5 daily\n"
     ]
    }
   ],
   "source": [
    "zoo.hours()"
   ]
  },
  {
   "cell_type": "code",
   "execution_count": 18,
   "id": "747fc7d2",
   "metadata": {},
   "outputs": [
    {
     "name": "stdout",
     "output_type": "stream",
     "text": [
      "Open 9-5 daily\n"
     ]
    }
   ],
   "source": [
    "# 11.2\n",
    "\n",
    "import zoo as menagerie\n",
    "\n",
    "menagerie.hours()"
   ]
  },
  {
   "cell_type": "code",
   "execution_count": 19,
   "id": "ebf07a33",
   "metadata": {},
   "outputs": [],
   "source": [
    "# 16.8\n",
    "\n",
    "from sqlalchemy import create_engine, select, Table, MetaData, Column, Integer, String"
   ]
  },
  {
   "cell_type": "code",
   "execution_count": 20,
   "id": "c0d5d17c",
   "metadata": {},
   "outputs": [],
   "source": [
    "engine = create_engine('sqlite:///books.db', echo=True)\n",
    "metadata = MetaData()"
   ]
  },
  {
   "cell_type": "code",
   "execution_count": 21,
   "id": "5af9d1ce",
   "metadata": {},
   "outputs": [],
   "source": [
    "books = Table(\n",
    "    'book', metadata,\n",
    "    Column('id', Integer, primary_key=True),\n",
    "    Column('title', String),\n",
    "    Column('author', String),\n",
    "    Column('publisher', String)\n",
    ")"
   ]
  },
  {
   "cell_type": "code",
   "execution_count": 22,
   "id": "fa25405e",
   "metadata": {},
   "outputs": [
    {
     "name": "stdout",
     "output_type": "stream",
     "text": [
      "2024-02-10 19:40:22,797 INFO sqlalchemy.engine.Engine BEGIN (implicit)\n",
      "2024-02-10 19:40:22,798 INFO sqlalchemy.engine.Engine PRAGMA main.table_info(\"book\")\n",
      "2024-02-10 19:40:22,799 INFO sqlalchemy.engine.Engine [raw sql] ()\n",
      "2024-02-10 19:40:22,801 INFO sqlalchemy.engine.Engine PRAGMA temp.table_info(\"book\")\n",
      "2024-02-10 19:40:22,803 INFO sqlalchemy.engine.Engine [raw sql] ()\n",
      "2024-02-10 19:40:22,804 INFO sqlalchemy.engine.Engine \n",
      "CREATE TABLE book (\n",
      "\tid INTEGER NOT NULL, \n",
      "\ttitle VARCHAR, \n",
      "\tauthor VARCHAR, \n",
      "\tpublisher VARCHAR, \n",
      "\tPRIMARY KEY (id)\n",
      ")\n",
      "\n",
      "\n",
      "2024-02-10 19:40:22,805 INFO sqlalchemy.engine.Engine [no key 0.00108s] ()\n",
      "2024-02-10 19:40:22,809 INFO sqlalchemy.engine.Engine COMMIT\n"
     ]
    }
   ],
   "source": [
    "metadata.create_all(engine)"
   ]
  },
  {
   "cell_type": "code",
   "execution_count": 23,
   "id": "7c8aea82",
   "metadata": {},
   "outputs": [
    {
     "name": "stdout",
     "output_type": "stream",
     "text": [
      "2024-02-10 19:40:39,268 INFO sqlalchemy.engine.Engine SELECT book.title \n",
      "FROM book ORDER BY book.title\n",
      "2024-02-10 19:40:39,270 INFO sqlalchemy.engine.Engine [generated in 0.00174s] ()\n"
     ]
    }
   ],
   "source": [
    "with engine.connect() as conn:\n",
    "    query = select([books.c.title]).order_by(books.c.title)\n",
    "    result = conn.execute(query)\n",
    "\n",
    "    for row in result:\n",
    "        print(row[0])"
   ]
  },
  {
   "cell_type": "code",
   "execution_count": null,
   "id": "24fb2923",
   "metadata": {},
   "outputs": [],
   "source": []
  }
 ],
 "metadata": {
  "kernelspec": {
   "display_name": "Python 3 (ipykernel)",
   "language": "python",
   "name": "python3"
  },
  "language_info": {
   "codemirror_mode": {
    "name": "ipython",
    "version": 3
   },
   "file_extension": ".py",
   "mimetype": "text/x-python",
   "name": "python",
   "nbconvert_exporter": "python",
   "pygments_lexer": "ipython3",
   "version": "3.11.5"
  }
 },
 "nbformat": 4,
 "nbformat_minor": 5
}
